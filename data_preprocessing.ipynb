{
 "cells": [
  {
   "cell_type": "code",
   "execution_count": 1,
   "metadata": {},
   "outputs": [
    {
     "name": "stdout",
     "output_type": "stream",
     "text": [
      "Collecting miditoolkit\n",
      "  Using cached miditoolkit-0.1.16-py3-none-any.whl (20 kB)\n",
      "Requirement already satisfied: mido>=1.1.16 in /opt/anaconda3/lib/python3.8/site-packages (from miditoolkit) (1.2.10)\n",
      "Requirement already satisfied: numpy>=1.7.0 in /opt/anaconda3/lib/python3.8/site-packages (from miditoolkit) (1.22.4)\n",
      "Installing collected packages: miditoolkit\n",
      "Successfully installed miditoolkit-0.1.16\n",
      "Collecting remi\n",
      "  Using cached remi-2022.7.27-py3-none-any.whl (930 kB)\n",
      "Installing collected packages: remi\n",
      "Successfully installed remi-2022.7.27\n"
     ]
    }
   ],
   "source": [
    "!pip install miditoolkit\n",
    "!pip install remi"
   ]
  },
  {
   "cell_type": "code",
   "execution_count": 4,
   "metadata": {},
   "outputs": [
    {
     "ename": "ModuleNotFoundError",
     "evalue": "No module named 'remi.utils'",
     "output_type": "error",
     "traceback": [
      "\u001b[0;31m---------------------------------------------------------------------------\u001b[0m",
      "\u001b[0;31mModuleNotFoundError\u001b[0m                       Traceback (most recent call last)",
      "\u001b[0;32m<ipython-input-4-31f800bcb659>\u001b[0m in \u001b[0;36m<module>\u001b[0;34m\u001b[0m\n\u001b[1;32m      3\u001b[0m \u001b[0;34m\u001b[0m\u001b[0m\n\u001b[1;32m      4\u001b[0m \u001b[0msys\u001b[0m\u001b[0;34m.\u001b[0m\u001b[0mpath\u001b[0m\u001b[0;34m.\u001b[0m\u001b[0mappend\u001b[0m\u001b[0;34m(\u001b[0m\u001b[0;34m'remi'\u001b[0m\u001b[0;34m)\u001b[0m\u001b[0;34m\u001b[0m\u001b[0;34m\u001b[0m\u001b[0m\n\u001b[0;32m----> 5\u001b[0;31m \u001b[0;32mimport\u001b[0m \u001b[0mremi\u001b[0m\u001b[0;34m.\u001b[0m\u001b[0mutils\u001b[0m \u001b[0;32mas\u001b[0m \u001b[0mutils\u001b[0m\u001b[0;34m\u001b[0m\u001b[0;34m\u001b[0m\u001b[0m\n\u001b[0m",
      "\u001b[0;31mModuleNotFoundError\u001b[0m: No module named 'remi.utils'"
     ]
    }
   ],
   "source": [
    "import miditoolkit\n",
    "import sys\n",
    "\n",
    "sys.path.append('remi')\n",
    "import remi.utils as utils"
   ]
  },
  {
   "cell_type": "code",
   "execution_count": 2,
   "metadata": {},
   "outputs": [],
   "source": [
    "midi_obj = miditoolkit.MidiFile('/home/vincent-huang/cmu/midi-generation/lmd_full/0/0a0a2b0e4d3b7bf4c5383ba025c4683e.mid')"
   ]
  },
  {
   "cell_type": "code",
   "execution_count": 4,
   "metadata": {},
   "outputs": [],
   "source": [
    "note_items, tempo_items = utils.read_items('/home/vincent-huang/cmu/midi-generation/lmd_full/0/00000ec8a66b6bd2ef809b0443eeae41.mid')"
   ]
  },
  {
   "cell_type": "code",
   "execution_count": 5,
   "metadata": {},
   "outputs": [],
   "source": [
    "note_items = utils.quantize_items(note_items)"
   ]
  },
  {
   "cell_type": "code",
   "execution_count": 6,
   "metadata": {},
   "outputs": [
    {
     "data": {
      "text/plain": [
       "[Item(name=Note, start=0, end=120, velocity=127, pitch=78),\n",
       " Item(name=Note, start=120, end=240, velocity=127, pitch=66),\n",
       " Item(name=Note, start=240, end=360, velocity=127, pitch=82),\n",
       " Item(name=Note, start=360, end=480, velocity=127, pitch=66),\n",
       " Item(name=Note, start=480, end=600, velocity=127, pitch=80),\n",
       " Item(name=Note, start=600, end=720, velocity=127, pitch=66),\n",
       " Item(name=Note, start=720, end=840, velocity=127, pitch=72),\n",
       " Item(name=Note, start=840, end=960, velocity=127, pitch=66),\n",
       " Item(name=Note, start=960, end=1080, velocity=127, pitch=73),\n",
       " Item(name=Note, start=1080, end=1200, velocity=127, pitch=66),\n",
       " Item(name=Note, start=1200, end=1320, velocity=127, pitch=72),\n",
       " Item(name=Note, start=1320, end=1440, velocity=127, pitch=73),\n",
       " Item(name=Note, start=1440, end=1560, velocity=127, pitch=66),\n",
       " Item(name=Note, start=1560, end=1680, velocity=127, pitch=77),\n",
       " Item(name=Note, start=1680, end=1800, velocity=127, pitch=66),\n",
       " Item(name=Note, start=1800, end=1920, velocity=127, pitch=70),\n",
       " Item(name=Note, start=1920, end=2040, velocity=127, pitch=63),\n",
       " Item(name=Note, start=2040, end=2160, velocity=127, pitch=63),\n",
       " Item(name=Note, start=2160, end=2280, velocity=127, pitch=82),\n",
       " Item(name=Note, start=2280, end=2400, velocity=127, pitch=63),\n",
       " Item(name=Note, start=2400, end=2520, velocity=127, pitch=80),\n",
       " Item(name=Note, start=2520, end=2640, velocity=127, pitch=63),\n",
       " Item(name=Note, start=2640, end=2760, velocity=127, pitch=72),\n",
       " Item(name=Note, start=2760, end=2880, velocity=127, pitch=63),\n",
       " Item(name=Note, start=2880, end=3000, velocity=127, pitch=73),\n",
       " Item(name=Note, start=3000, end=3120, velocity=127, pitch=63),\n",
       " Item(name=Note, start=3120, end=3240, velocity=127, pitch=72),\n",
       " Item(name=Note, start=3240, end=3360, velocity=127, pitch=73),\n",
       " Item(name=Note, start=3360, end=3480, velocity=127, pitch=63),\n",
       " Item(name=Note, start=3480, end=3600, velocity=127, pitch=75),\n",
       " Item(name=Note, start=3600, end=3720, velocity=127, pitch=63),\n",
       " Item(name=Note, start=3720, end=3840, velocity=127, pitch=77),\n",
       " Item(name=Note, start=3840, end=3960, velocity=127, pitch=70),\n",
       " Item(name=Note, start=3960, end=4080, velocity=127, pitch=58),\n",
       " Item(name=Note, start=4080, end=4200, velocity=127, pitch=82),\n",
       " Item(name=Note, start=4200, end=4320, velocity=127, pitch=58),\n",
       " Item(name=Note, start=4320, end=4440, velocity=127, pitch=80),\n",
       " Item(name=Note, start=4440, end=4560, velocity=127, pitch=58),\n",
       " Item(name=Note, start=4560, end=4680, velocity=127, pitch=72),\n",
       " Item(name=Note, start=4680, end=4800, velocity=127, pitch=58),\n",
       " Item(name=Note, start=4800, end=4920, velocity=127, pitch=73),\n",
       " Item(name=Note, start=4920, end=5040, velocity=127, pitch=58),\n",
       " Item(name=Note, start=5040, end=5160, velocity=127, pitch=72),\n",
       " Item(name=Note, start=5160, end=5280, velocity=127, pitch=73),\n",
       " Item(name=Note, start=5280, end=5400, velocity=127, pitch=58),\n",
       " Item(name=Note, start=5400, end=5520, velocity=127, pitch=77),\n",
       " Item(name=Note, start=5520, end=5640, velocity=127, pitch=58),\n",
       " Item(name=Note, start=5640, end=5760, velocity=127, pitch=70),\n",
       " Item(name=Note, start=5760, end=5880, velocity=127, pitch=58),\n",
       " Item(name=Note, start=5880, end=6000, velocity=127, pitch=58),\n",
       " Item(name=Note, start=6000, end=6120, velocity=127, pitch=82),\n",
       " Item(name=Note, start=6120, end=6240, velocity=127, pitch=58),\n",
       " Item(name=Note, start=6240, end=6360, velocity=127, pitch=80),\n",
       " Item(name=Note, start=6360, end=6480, velocity=127, pitch=58),\n",
       " Item(name=Note, start=6480, end=6600, velocity=127, pitch=84),\n",
       " Item(name=Note, start=6600, end=6720, velocity=127, pitch=58),\n",
       " Item(name=Note, start=6720, end=6840, velocity=127, pitch=85),\n",
       " Item(name=Note, start=6840, end=6960, velocity=127, pitch=58),\n",
       " Item(name=Note, start=6960, end=7080, velocity=127, pitch=84),\n",
       " Item(name=Note, start=7080, end=7200, velocity=127, pitch=85),\n",
       " Item(name=Note, start=7200, end=7320, velocity=127, pitch=58),\n",
       " Item(name=Note, start=7320, end=7440, velocity=127, pitch=80),\n",
       " Item(name=Note, start=7440, end=7560, velocity=127, pitch=58),\n",
       " Item(name=Note, start=7560, end=7680, velocity=127, pitch=77),\n",
       " Item(name=Note, start=7680, end=7800, velocity=127, pitch=78),\n",
       " Item(name=Note, start=7800, end=7920, velocity=127, pitch=66),\n",
       " Item(name=Note, start=7920, end=8040, velocity=127, pitch=82),\n",
       " Item(name=Note, start=8040, end=8160, velocity=127, pitch=66),\n",
       " Item(name=Note, start=8160, end=8280, velocity=127, pitch=80),\n",
       " Item(name=Note, start=8280, end=8400, velocity=127, pitch=66),\n",
       " Item(name=Note, start=8400, end=8520, velocity=127, pitch=72),\n",
       " Item(name=Note, start=8520, end=8640, velocity=127, pitch=66),\n",
       " Item(name=Note, start=8640, end=8760, velocity=127, pitch=73),\n",
       " Item(name=Note, start=8760, end=8880, velocity=127, pitch=66),\n",
       " Item(name=Note, start=8880, end=9000, velocity=127, pitch=72),\n",
       " Item(name=Note, start=9000, end=9120, velocity=127, pitch=73),\n",
       " Item(name=Note, start=9120, end=9240, velocity=127, pitch=66),\n",
       " Item(name=Note, start=9240, end=9360, velocity=127, pitch=77),\n",
       " Item(name=Note, start=9360, end=9480, velocity=127, pitch=66),\n",
       " Item(name=Note, start=9480, end=9600, velocity=127, pitch=70),\n",
       " Item(name=Note, start=9600, end=9720, velocity=127, pitch=63),\n",
       " Item(name=Note, start=9720, end=9840, velocity=127, pitch=63),\n",
       " Item(name=Note, start=9840, end=9960, velocity=127, pitch=82),\n",
       " Item(name=Note, start=9960, end=10080, velocity=127, pitch=63),\n",
       " Item(name=Note, start=10080, end=10200, velocity=127, pitch=80),\n",
       " Item(name=Note, start=10200, end=10320, velocity=127, pitch=63),\n",
       " Item(name=Note, start=10320, end=10440, velocity=127, pitch=72),\n",
       " Item(name=Note, start=10440, end=10560, velocity=127, pitch=63),\n",
       " Item(name=Note, start=10560, end=10680, velocity=127, pitch=73),\n",
       " Item(name=Note, start=10680, end=10800, velocity=127, pitch=63),\n",
       " Item(name=Note, start=10800, end=10920, velocity=127, pitch=72),\n",
       " Item(name=Note, start=10920, end=11040, velocity=127, pitch=73),\n",
       " Item(name=Note, start=11040, end=11160, velocity=127, pitch=63),\n",
       " Item(name=Note, start=11160, end=11280, velocity=127, pitch=75),\n",
       " Item(name=Note, start=11280, end=11400, velocity=127, pitch=63),\n",
       " Item(name=Note, start=11400, end=11520, velocity=127, pitch=77),\n",
       " Item(name=Note, start=11520, end=11640, velocity=127, pitch=70),\n",
       " Item(name=Note, start=11640, end=11760, velocity=127, pitch=58),\n",
       " Item(name=Note, start=11760, end=11880, velocity=127, pitch=82),\n",
       " Item(name=Note, start=11880, end=12000, velocity=127, pitch=58),\n",
       " Item(name=Note, start=12000, end=12120, velocity=127, pitch=80),\n",
       " Item(name=Note, start=12120, end=12240, velocity=127, pitch=58),\n",
       " Item(name=Note, start=12240, end=12360, velocity=127, pitch=84),\n",
       " Item(name=Note, start=12360, end=12480, velocity=127, pitch=58),\n",
       " Item(name=Note, start=12480, end=12600, velocity=127, pitch=85),\n",
       " Item(name=Note, start=12600, end=12720, velocity=127, pitch=58),\n",
       " Item(name=Note, start=12720, end=12840, velocity=127, pitch=84),\n",
       " Item(name=Note, start=12840, end=12960, velocity=127, pitch=85),\n",
       " Item(name=Note, start=12960, end=13080, velocity=127, pitch=58),\n",
       " Item(name=Note, start=13080, end=13200, velocity=127, pitch=80),\n",
       " Item(name=Note, start=13200, end=13320, velocity=127, pitch=58),\n",
       " Item(name=Note, start=13320, end=13440, velocity=127, pitch=77),\n",
       " Item(name=Note, start=13440, end=13560, velocity=127, pitch=58),\n",
       " Item(name=Note, start=13560, end=13680, velocity=127, pitch=58),\n",
       " Item(name=Note, start=13680, end=13800, velocity=127, pitch=85),\n",
       " Item(name=Note, start=13800, end=13920, velocity=127, pitch=58),\n",
       " Item(name=Note, start=13920, end=14040, velocity=127, pitch=84),\n",
       " Item(name=Note, start=14040, end=14160, velocity=127, pitch=58),\n",
       " Item(name=Note, start=14160, end=14280, velocity=127, pitch=77),\n",
       " Item(name=Note, start=14280, end=14400, velocity=127, pitch=58),\n",
       " Item(name=Note, start=14400, end=14520, velocity=127, pitch=89),\n",
       " Item(name=Note, start=14520, end=14640, velocity=127, pitch=58),\n",
       " Item(name=Note, start=14640, end=14760, velocity=127, pitch=87),\n",
       " Item(name=Note, start=14760, end=14880, velocity=127, pitch=89),\n",
       " Item(name=Note, start=14880, end=15000, velocity=127, pitch=58),\n",
       " Item(name=Note, start=15000, end=15120, velocity=127, pitch=84),\n",
       " Item(name=Note, start=15120, end=15240, velocity=127, pitch=58),\n",
       " Item(name=Note, start=15120, end=15240, velocity=127, pitch=85)]"
      ]
     },
     "execution_count": 6,
     "metadata": {},
     "output_type": "execute_result"
    }
   ],
   "source": [
    "note_items"
   ]
  },
  {
   "cell_type": "code",
   "execution_count": 9,
   "metadata": {},
   "outputs": [
    {
     "data": {
      "text/plain": [
       "['0',\n",
       " '1',\n",
       " '2',\n",
       " '3',\n",
       " '4',\n",
       " '5',\n",
       " '6',\n",
       " '7',\n",
       " '8',\n",
       " '9',\n",
       " 'a',\n",
       " 'b',\n",
       " 'c',\n",
       " 'd',\n",
       " 'e',\n",
       " 'f']"
      ]
     },
     "execution_count": 9,
     "metadata": {},
     "output_type": "execute_result"
    }
   ],
   "source": [
    "import os\n",
    "sorted(os.listdir('./lmd_full/'))"
   ]
  },
  {
   "cell_type": "code",
   "execution_count": 11,
   "metadata": {},
   "outputs": [
    {
     "data": {
      "text/plain": [
       "178561"
      ]
     },
     "execution_count": 11,
     "metadata": {},
     "output_type": "execute_result"
    }
   ],
   "source": [
    "all_files = []\n",
    "for folder in sorted(os.listdir('./lmd_full/')):\n",
    "    for file in os.listdir('./lmd_full/' + folder):\n",
    "        all_files.append('./lmd_full/' + folder + '/' + file)\n",
    "len(all_files)"
   ]
  },
  {
   "cell_type": "code",
   "execution_count": 12,
   "metadata": {},
   "outputs": [],
   "source": [
    "# shuffle the files and split into train, val, and test\n",
    "import numpy as np\n",
    "\n",
    "all_files = np.array(all_files)\n",
    "np.random.shuffle(all_files)\n",
    "\n",
    "# split into train, val, and test\n",
    "train_files = all_files[:int(len(all_files) * 0.8)]\n",
    "val_files = all_files[int(len(all_files) * 0.8):int(len(all_files) * 0.9)]\n",
    "test_files = all_files[int(len(all_files) * 0.9):]\n",
    "\n",
    "# put the files into a new folder"
   ]
  },
  {
   "cell_type": "code",
   "execution_count": 13,
   "metadata": {},
   "outputs": [
    {
     "data": {
      "text/plain": [
       "array(['./lmd_full/e/e03fc5e9a4e308b880ce33dc0da9c270.mid',\n",
       "       './lmd_full/6/6b11e1344c7e3c210de135ca39353660.mid',\n",
       "       './lmd_full/f/f6abeda2a8e065026cf8661dabde74dc.mid',\n",
       "       './lmd_full/0/0ded64e40b2f0c93685743f01ed721d8.mid',\n",
       "       './lmd_full/b/b6d56658ace0fe4cc231350b28d4459f.mid'], dtype='<U49')"
      ]
     },
     "execution_count": 13,
     "metadata": {},
     "output_type": "execute_result"
    }
   ],
   "source": [
    "train_files[:5]"
   ]
  },
  {
   "cell_type": "code",
   "execution_count": 14,
   "metadata": {},
   "outputs": [],
   "source": [
    "os.makedirs('data/train')\n",
    "os.makedirs('data/val')\n",
    "os.makedirs('data/test')"
   ]
  },
  {
   "cell_type": "code",
   "execution_count": 15,
   "metadata": {},
   "outputs": [
    {
     "name": "stderr",
     "output_type": "stream",
     "text": [
      "17856it [00:19, 925.58it/s] \n"
     ]
    }
   ],
   "source": [
    "import shutil\n",
    "from tqdm import tqdm\n",
    "\n",
    "for train_file, val_file, test_file in tqdm(zip(train_files, val_files, test_files)):\n",
    "    shutil.copy(train_file, 'data/train')\n",
    "    shutil.copy(val_file, 'data/val')\n",
    "    shutil.copy(test_file, 'data/test')\n"
   ]
  },
  {
   "cell_type": "code",
   "execution_count": null,
   "metadata": {},
   "outputs": [],
   "source": []
  }
 ],
 "metadata": {
  "kernelspec": {
   "display_name": "midi-generation",
   "language": "python",
   "name": "python3"
  },
  "language_info": {
   "codemirror_mode": {
    "name": "ipython",
    "version": 3
   },
   "file_extension": ".py",
   "mimetype": "text/x-python",
   "name": "python",
   "nbconvert_exporter": "python",
   "pygments_lexer": "ipython3",
   "version": "3.8.8"
  },
  "orig_nbformat": 4
 },
 "nbformat": 4,
 "nbformat_minor": 2
}
